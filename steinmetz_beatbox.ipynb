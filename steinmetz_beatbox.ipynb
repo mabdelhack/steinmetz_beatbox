{
 "cells": [
  {
   "cell_type": "markdown",
   "metadata": {
    "colab_type": "text",
    "id": "bEqdz1ZUMaj1"
   },
   "source": [
    "## Steinmetz Beatbox\n",
    "\n",
    "Create music using mouse spike data"
   ]
  },
  {
   "cell_type": "code",
   "execution_count": 1,
   "metadata": {
    "cellView": "form",
    "colab": {},
    "colab_type": "code",
    "id": "TLWjKq8bLDqm"
   },
   "outputs": [],
   "source": [
    "#@title Data retrieval\n",
    "import os, requests\n",
    "\n",
    "fname = []\n",
    "for j in range(3):\n",
    "  fname.append('steinmetz_part%d.npz'%j)\n",
    "url = [\"https://osf.io/agvxh/download\"]\n",
    "url.append(\"https://osf.io/uv3mw/download\")\n",
    "url.append(\"https://osf.io/ehmw2/download\")\n",
    "\n",
    "for j in range(len(url)):\n",
    "  if not os.path.isfile(fname[j]):\n",
    "    try:\n",
    "      r = requests.get(url[j])\n",
    "    except requests.ConnectionError:\n",
    "      print(\"!!! Failed to download data !!!\")\n",
    "    else:\n",
    "      if r.status_code != requests.codes.ok:\n",
    "        print(\"!!! Failed to download data !!!\")\n",
    "      else:\n",
    "        with open(fname[j], \"wb\") as fid:\n",
    "          fid.write(r.content)\n"
   ]
  },
  {
   "cell_type": "code",
   "execution_count": 2,
   "metadata": {
    "cellView": "form",
    "colab": {},
    "colab_type": "code",
    "id": "raBVOEWgUK_B"
   },
   "outputs": [],
   "source": [
    "#@title Import matplotlib and set defaults\n",
    "from matplotlib import rcParams \n",
    "from matplotlib import pyplot as plt\n",
    "rcParams['figure.figsize'] = [20, 4]\n",
    "rcParams['font.size'] =15\n",
    "rcParams['axes.spines.top'] = False\n",
    "rcParams['axes.spines.right'] = False\n",
    "rcParams['figure.autolayout'] = True"
   ]
  },
  {
   "cell_type": "code",
   "execution_count": 3,
   "metadata": {
    "colab": {
     "base_uri": "https://localhost:8080/",
     "height": 54
    },
    "colab_type": "code",
    "id": "sffzC_hyLgWZ",
    "outputId": "c1f86370-a550-4d9b-db3f-2913cc208402"
   },
   "outputs": [
    {
     "name": "stdout",
     "output_type": "stream",
     "text": [
      "dict_keys(['contrast_right', 'prev_reward', 'gocue', 'spks', 'spks_passive', 'mouse_name', 'licks', 'feedback_time', 'response', 'face', 'reaction_time', 'pupil_passive', 'response_time', 'feedback_type', 'cellid_orig', 'bin_size', 'brain_area', 'ccf', 'face_passive', 'contrast_right_passive', 'wheel_passive', 'active_trials', 'date_exp', 'licks_passive', 'wheel', 'trough_to_peak', 'pupil', 'ccf_axes', 'contrast_left', 'stim_onset', 'contrast_left_passive'])\n"
     ]
    }
   ],
   "source": [
    "#@title Data loading\n",
    "import numpy as np\n",
    "\n",
    "alldat = np.array([])\n",
    "for j in range(len(fname)):\n",
    "  alldat = np.hstack((alldat, np.load('steinmetz_part%d.npz'%j, allow_pickle=True)['dat']))\n",
    "\n",
    "# select just one of the recordings here. 11 is nice because it has some neurons in vis ctx. \n",
    "dat = alldat[11]\n",
    "print(dat.keys())"
   ]
  },
  {
   "cell_type": "markdown",
   "metadata": {
    "colab_type": "text",
    "id": "5K7UT7dyj_6R"
   },
   "source": [
    "`alldat` contains 39 sessions from 10 mice, data from Steinmetz et al, 2019. Time bins for all measurements are 10ms, starting 500ms before stimulus onset. The mouse had to determine which side has the highest contrast. For each `dat = alldat[k]`, you have the fields below. For extra variables, check out the extra notebook and extra data files (lfp, waveforms and exact spike times, non-binned). \n",
    "\n",
    "* `dat['mouse_name']`: mouse name\n",
    "* `dat['date_exp']`: when a session was performed\n",
    "* `dat['spks']`: neurons by trials by time bins.    \n",
    "* `dat['brain_area']`: brain area for each neuron recorded. \n",
    "* `dat['ccf']`: Allen Institute brain atlas coordinates for each neuron. \n",
    "* `dat['ccf_axes']`: axes names for the Allen CCF. \n",
    "* `dat['contrast_right']`: contrast level for the right stimulus, which is always contralateral to the recorded brain areas.\n",
    "* `dat['contrast_left']`: contrast level for left stimulus. \n",
    "* `dat['gocue']`: when the go cue sound was played. \n",
    "* `dat['response_times']`: when the response was registered, which has to be after the go cue. The mouse can turn the wheel before the go cue (and nearly always does!), but the stimulus on the screen won't move before the go cue.  \n",
    "* `dat['response']`: which side the response was (`-1`, `0`, `1`). When the right-side stimulus had higher contrast, the correct choice was `-1`. `0` is a no go response. \n",
    "* `dat['feedback_time']`: when feedback was provided. \n",
    "* `dat['feedback_type']`: if the feedback was positive (`+1`, reward) or negative (`-1`, white noise burst).  \n",
    "* `dat['wheel']`: turning speed of the wheel that the mice uses to make a response, sampled at `10ms`. \n",
    "* `dat['pupil']`: pupil area  (noisy, because pupil is very small) + pupil horizontal and vertical position.\n",
    "* `dat['face']`: average face motion energy from a video camera. \n",
    "* `dat['licks']`: lick detections, 0 or 1.   \n",
    "* `dat['trough_to_peak']`: measures the width of the action potential waveform for each neuron. Widths `<=10` samples are \"putative fast spiking neurons\". \n",
    "* `dat['%X%_passive']`: same as above for `X` = {`spks`, `pupil`, `wheel`, `contrast_left`, `contrast_right`} but for  passive trials at the end of the recording when the mouse was no longer engaged and stopped making responses. \n",
    "* `dat['prev_reward']`: time of the feedback (reward/white noise) on the previous trial in relation to the current stimulus time. \n",
    "* `dat['reaction_time']`: ntrials by 2. First column: reaction time computed from the wheel movement as the first sample above `5` ticks/10ms bin. Second column: direction of the wheel movement (`0` = no move detected).  \n",
    "\n",
    "\n"
   ]
  },
  {
   "cell_type": "code",
   "execution_count": 5,
   "metadata": {
    "colab": {},
    "colab_type": "code",
    "id": "JYhiUDTi1uAZ"
   },
   "outputs": [],
   "source": [
    "# groupings of brain regions\n",
    "regions = [\"vis ctx\", \"thal\", \"hipp\", \"other ctx\", \"midbrain\", \"basal ganglia\", \"cortical subplate\", \"other\"]\n",
    "brain_groups = [[\"VISa\", \"VISam\", \"VISl\", \"VISp\", \"VISpm\", \"VISrl\"], # visual cortex\n",
    "                [\"CL\", \"LD\", \"LGd\", \"LH\", \"LP\", \"MD\", \"MG\", \"PO\", \"POL\", \"PT\", \"RT\", \"SPF\", \"TH\", \"VAL\", \"VPL\", \"VPM\"], # thalamus\n",
    "                [\"CA\", \"CA1\", \"CA2\", \"CA3\", \"DG\", \"SUB\", \"POST\"], # hippocampal\n",
    "                [\"ACA\", \"AUD\", \"COA\", \"DP\", \"ILA\", \"MOp\", \"MOs\", \"OLF\", \"ORB\", \"ORBm\", \"PIR\", \"PL\", \"SSp\", \"SSs\", \"RSP\",\" TT\"], # non-visual cortex\n",
    "                [\"APN\", \"IC\", \"MB\", \"MRN\", \"NB\", \"PAG\", \"RN\", \"SCs\", \"SCm\", \"SCig\", \"SCsg\", \"ZI\"], # midbrain\n",
    "                [\"ACB\", \"CP\", \"GPe\", \"LS\", \"LSc\", \"LSr\", \"MS\", \"OT\", \"SNr\", \"SI\"], # basal ganglia \n",
    "                [\"BLA\", \"BMA\", \"EP\", \"EPd\", \"MEA\"] # cortical subplate\n",
    "                ]\n",
    "\n",
    "nareas = 4 # only the top 4 regions are in this particular mouse\n",
    "NN = len(dat['brain_area']) # number of neurons\n",
    "barea = nareas * np.ones(NN, ) # last one is \"other\"\n",
    "for j in range(nareas):\n",
    "  barea[np.isin(dat['brain_area'], brain_groups[j])] = j # assign a number to each region"
   ]
  },
  {
   "cell_type": "code",
   "execution_count": 40,
   "metadata": {},
   "outputs": [
    {
     "name": "stdout",
     "output_type": "stream",
     "text": [
      "(39,)\n",
      "(698, 340, 250)\n",
      "Lederberg\n",
      "(250,)\n",
      "[7 2 2 2 1 2 1 0 3 2 1 1 2 4 1 2 2 5 2 2 2 0 2 3 1 2 1 2 1 5 2 0 1 0 2 3 0\n",
      " 3 3 1 3 0 4 2 1 1 2 2 1 4 1 3 4 3 2 3 3 2 5 2 2 3 2 5 1 4 1 3 3 4 3 4 4 6\n",
      " 4 4 7 6 6 4 3 5 5 3 3 3 3 3 5 2 5 2 2 3 7 4 5 4 5 4 3 1 3 2 4 5 3 3 3 2 3\n",
      " 4 2 1 2 5 2 0 3 5 2 3 1 2 3 1 3 2 1 1 4 3 2 4 2 2 2 1 1 1 4 1 2 4 2 3 1 2\n",
      " 1 2 0 2 0 3 3 1 2 1 4 0 3 1 0 5 3 3 0 2 3 4 2 3 3 1 2 2 2 1 1 3 2 3 3 1 2\n",
      " 3 2 1 2 1 2 3 3 0 1 2 1 2 2 2 1 3 1 2 1 4 6 2 2 2 1 1 6 3 4 4 3 1 0 5 3 4\n",
      " 4 2 3 1 3 1 4 4 3 3 2 3 0 1 1 5 1 3 3 6 2 3 2 2 0 3 2 1]\n"
     ]
    }
   ],
   "source": [
    "print(alldat.shape)\n",
    "print(dat['spks'].shape)\n",
    "print(dat['mouse_name'])\n",
    "print(np.sum(dat['spks'][0, :, :], axis=0).shape)\n",
    "print(np.sum(dat['spks'][0, :, :], axis=0))"
   ]
  },
  {
   "cell_type": "code",
   "execution_count": 41,
   "metadata": {},
   "outputs": [
    {
     "name": "stdout",
     "output_type": "stream",
     "text": [
      "[7 2 2 2 1 2 1 0 3 2 1 1 2 4 1 2 2 5 2 2 2 0 2 3 1 2 1 2 1 5 2 0 1 0 2 3 0\n",
      " 3 3 1 3 0 4 2 1 1 2 2 1 4 1 3 4 3 2 3 3 2 5 2 2 3 2 5 1 4 1 3 3 4 3 4 4 6\n",
      " 4 4 7 6 6 4 3 5 5 3 3 3 3 3 5 2 5 2 2 3 7 4 5 4 5 4 3 1 3 2 4 5 3 3 3 2 3\n",
      " 4 2 1 2 5 2 0 3 5 2 3 1 2 3 1 3 2 1 1 4 3 2 4 2 2 2 1 1 1 4 1 2 4 2 3 1 2\n",
      " 1 2 0 2 0 3 3 1 2 1 4 0 3 1 0 5 3 3 0 2 3 4 2 3 3 1 2 2 2 1 1 3 2 3 3 1 2\n",
      " 3 2 1 2 1 2 3 3 0 1 2 1 2 2 2 1 3 1 2 1 4 6 2 2 2 1 1 6 3 4 4 3 1 0 5 3 4\n",
      " 4 2 3 1 3 1 4 4 3 3 2 3 0 1 1 5 1 3 3 6 2 3 2 2 0 3 2 1]\n"
     ]
    }
   ],
   "source": [
    "print(np.sum(dat['spks'][0, :, :], axis=0))\n",
    "c = np.sum(dat['spks'][0, :, :], axis=0)"
   ]
  },
  {
   "cell_type": "code",
   "execution_count": 14,
   "metadata": {},
   "outputs": [],
   "source": [
    "import numpy as np\n",
    "import simpleaudio as sa\n",
    "from scipy import signal"
   ]
  },
  {
   "cell_type": "code",
   "execution_count": 45,
   "metadata": {},
   "outputs": [
    {
     "name": "stderr",
     "output_type": "stream",
     "text": [
      "c:\\users\\laptomon\\anaconda3\\envs\\tensorflow\\lib\\site-packages\\ipykernel_launcher.py:7: DeprecationWarning: object of type <class 'float'> cannot be safely interpreted as an integer.\n",
      "  import sys\n"
     ]
    }
   ],
   "source": [
    "c_up = signal.upfirdn([1], c, 4410)\n",
    "frequency = 440  # Our played note will be 440 Hz\n",
    "fs = 44100  # 44100 samples per second\n",
    "seconds = 0.05  # Note duration of 3 seconds\n",
    "\n",
    "# Generate array with seconds*sample_rate steps, ranging between 0 and seconds\n",
    "t = np.linspace(0, seconds, seconds * fs, False)\n",
    "\n",
    "# Generate a 440 Hz sine wave\n",
    "note = np.sin(frequency * t * 1.25 * np.pi) * np.exp(-t*frequency/4)\n",
    "\n",
    "# Ensure that highest value is in 16-bit range\n",
    "audio = note * (2**15 - 1) / np.max(np.abs(note))\n",
    "# Convert to 16-bit data\n",
    "audio = audio.astype(np.int16)"
   ]
  },
  {
   "cell_type": "code",
   "execution_count": 46,
   "metadata": {},
   "outputs": [
    {
     "name": "stderr",
     "output_type": "stream",
     "text": [
      "c:\\users\\laptomon\\anaconda3\\envs\\tensorflow\\lib\\site-packages\\matplotlib\\figure.py:2369: UserWarning: This figure includes Axes that are not compatible with tight_layout, so results might be incorrect.\n",
      "  warnings.warn(\"This figure includes Axes that are not compatible \"\n"
     ]
    },
    {
     "data": {
      "image/png": "[encoded data removed]",
      "text/plain": [
       "<Figure size 1440x288 with 1 Axes>"
      ]
     },
     "metadata": {},
     "output_type": "display_data"
    }
   ],
   "source": [
    "convolved = signal.convolve(np.int16(c_up), note)\n",
    "audio = convolved * (2**15 - 1) / np.max(np.abs(convolved))\n",
    "# Convert to 16-bit data\n",
    "audio = audio.astype(np.int16)\n",
    "plt.plot(np.arange(60000), audio[:60000])\n",
    "plt.show()\n"
   ]
  },
  {
   "cell_type": "code",
   "execution_count": 47,
   "metadata": {},
   "outputs": [],
   "source": [
    "# Start playback\n",
    "play_obj = sa.play_buffer(audio, 1, 2, fs)\n",
    "\n",
    "# Wait for playback to finish before exiting\n",
    "play_obj.wait_done()"
   ]
  },
  {
   "cell_type": "code",
   "execution_count": 48,
   "metadata": {},
   "outputs": [],
   "source": [
    "from scipy.io.wavfile import write\n",
    "\n",
    "write('steinmetz_beatbox1.wav', fs, audio)  # Save as WAV file "
   ]
  },
  {
   "cell_type": "code",
   "execution_count": 14,
   "metadata": {
    "colab": {},
    "colab_type": "code",
    "id": "WDb-nHAi3l3i"
   },
   "outputs": [],
   "source": []
  }
 ],
 "metadata": {
  "colab": {
   "collapsed_sections": [],
   "name": "load_steinmetz_decisions.ipynb",
   "provenance": [],
   "toc_visible": true
  },
  "kernelspec": {
   "display_name": "Python 3",
   "language": "python",
   "name": "python3"
  },
  "language_info": {
   "codemirror_mode": {
    "name": "ipython",
    "version": 3
   },
   "file_extension": ".py",
   "mimetype": "text/x-python",
   "name": "python",
   "nbconvert_exporter": "python",
   "pygments_lexer": "ipython3",
   "version": "3.5.4"
  }
 },
 "nbformat": 4,
 "nbformat_minor": 1
}
